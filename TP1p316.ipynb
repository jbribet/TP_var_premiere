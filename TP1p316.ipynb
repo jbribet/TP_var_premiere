{
 "cells": [
  {
   "cell_type": "markdown",
   "metadata": {},
   "source": [
    "# TP1p316 : Calculer l'espérance, la variance et l'écart type d'une v.a.r"
   ]
  },
  {
   "cell_type": "markdown",
   "metadata": {},
   "source": [
    "On crée la liste suivante :"
   ]
  },
  {
   "cell_type": "code",
   "execution_count": null,
   "metadata": {},
   "outputs": [],
   "source": [
    "X=[x for x in range(1,11)]"
   ]
  },
  {
   "cell_type": "markdown",
   "metadata": {},
   "source": [
    "Cette liste contient ..."
   ]
  },
  {
   "cell_type": "markdown",
   "metadata": {},
   "source": [
    "On crée la liste `P` :"
   ]
  },
  {
   "cell_type": "code",
   "execution_count": null,
   "metadata": {},
   "outputs": [],
   "source": []
  },
  {
   "cell_type": "markdown",
   "metadata": {},
   "source": [
    "La loi de probabilité de $G$ est donc définie par les deux listes `X`, valeurs possibles pour $G$ et `P` valeur des probabilités correspondantes."
   ]
  },
  {
   "cell_type": "markdown",
   "metadata": {},
   "source": [
    "On va maintenant créer une fonction qui prendra en paramètre les deux listes correspondant à la loi de $G$ et retournera l'espérance de $G$ :"
   ]
  },
  {
   "cell_type": "code",
   "execution_count": null,
   "metadata": {},
   "outputs": [],
   "source": [
    "def esperance(X,P) :\n",
    "    E=0\n",
    "    for k in range():\n",
    "        \n",
    "    return "
   ]
  },
  {
   "cell_type": "markdown",
   "metadata": {},
   "source": [
    "On va définir une fonction `parametres_dispersion` qui va prendre en argument les deux listes définissant la loi de probabilité d'une variable aléatoire et retournera une liste de deux valeurs contenant la variance de la v.a et son écart-type.\n",
    "\n",
    "*Attention, pour calculer une racine carrée, il faut importer la fonction `sqrt`du module `maths` en tapant au début du script `from math import sqrt`*"
   ]
  },
  {
   "cell_type": "code",
   "execution_count": null,
   "metadata": {},
   "outputs": [],
   "source": []
  },
  {
   "cell_type": "markdown",
   "metadata": {},
   "source": [
    "On va utiliser ces fonctions pour déterminer les paramètres de la v.a. $Y$ donnée dans l'énoncé."
   ]
  },
  {
   "cell_type": "code",
   "execution_count": null,
   "metadata": {},
   "outputs": [],
   "source": []
  }
 ],
 "metadata": {
  "kernelspec": {
   "display_name": "Python 3",
   "language": "python",
   "name": "python3"
  },
  "language_info": {
   "codemirror_mode": {
    "name": "ipython",
    "version": 3
   },
   "file_extension": ".py",
   "mimetype": "text/x-python",
   "name": "python",
   "nbconvert_exporter": "python",
   "pygments_lexer": "ipython3",
   "version": "3.6.5"
  }
 },
 "nbformat": 4,
 "nbformat_minor": 2
}
