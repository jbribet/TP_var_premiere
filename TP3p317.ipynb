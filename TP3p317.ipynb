{
 "cells": [
  {
   "cell_type": "markdown",
   "metadata": {},
   "source": [
    "# TP3p317 : Faire la distinction entre modèle et réalité"
   ]
  },
  {
   "cell_type": "markdown",
   "metadata": {},
   "source": [
    "On souhaite étudier la distance en l'espérance de la v.a $G$ définie dans l'énoncé et la moyenne des gains algébriques obtenu lors d'un échantillon simulé."
   ]
  },
  {
   "cell_type": "markdown",
   "metadata": {},
   "source": [
    "Voici la fonction `jeu()` qui simule une partie de ce jeu. Elle retourne le gain algébrique du joueur à l'issue de la partie.\n",
    "\n",
    "*Remarque : on commence par importer la librairie `random` en la renommant `rd` pour pouvoir utiliser la fonction `randint(a,b)` de cette librairie qui renvoie un nombre choisi au hasard de façon équiprobable parmi les entiers compris entre $a$ et $b$.*"
   ]
  },
  {
   "cell_type": "code",
   "execution_count": null,
   "metadata": {},
   "outputs": [],
   "source": [
    "import random as rd\n",
    "\n",
    "def jeu():\n",
    "    G=-2\n",
    "    for i in range(1,5) :\n",
    "        if (rd.randint(0,1)==0) and (G==-2) :\n",
    "            G=G+i\n",
    "    return G"
   ]
  },
  {
   "cell_type": "markdown",
   "metadata": {},
   "source": [
    "Le test du `if` a pour rôle de ...."
   ]
  },
  {
   "cell_type": "markdown",
   "metadata": {},
   "source": [
    "On va créer une fonction `simul_n_jeux(n)`qui va prendre en argument un nombre $n$ de parties et retourne le gain algébrique moyen par partie."
   ]
  },
  {
   "cell_type": "code",
   "execution_count": null,
   "metadata": {},
   "outputs": [],
   "source": []
  },
  {
   "cell_type": "markdown",
   "metadata": {},
   "source": [
    "On va maintenant tester la fonction sur différentes tailles d'échantillons :"
   ]
  },
  {
   "cell_type": "code",
   "execution_count": null,
   "metadata": {},
   "outputs": [],
   "source": []
  },
  {
   "cell_type": "markdown",
   "metadata": {},
   "source": [
    "On remarque que..."
   ]
  },
  {
   "cell_type": "markdown",
   "metadata": {},
   "source": [
    "On va maintenant tester le script de la question 3. "
   ]
  },
  {
   "cell_type": "code",
   "execution_count": null,
   "metadata": {},
   "outputs": [],
   "source": [
    "%matplotlib inline\n",
    "import matplotlib.pyplot as plt\n",
    "\n",
    "def evolmoy(nbreexp) :\n",
    "    s=0\n",
    "    n=1\n",
    "    L=[]\n",
    "    while n<=nbreexp :\n",
    "        s=s+jeu()\n",
    "        L.append(s/n)\n",
    "        n=n+1\n",
    "    plt.plot(list(range(1,nbreexp+1)),L, 'b.')\n",
    "    plt.plot([1,nbreexp],[-3/8,-3/8],'r-')\n",
    "    plt.grid()\n",
    "    plt.show()"
   ]
  },
  {
   "cell_type": "code",
   "execution_count": null,
   "metadata": {},
   "outputs": [],
   "source": [
    "evolmoy()"
   ]
  },
  {
   "cell_type": "markdown",
   "metadata": {},
   "source": [
    "Pourquoi l'affichage ne correspond pas à ce qu'on souhaitait ? ..........."
   ]
  },
  {
   "cell_type": "code",
   "execution_count": null,
   "metadata": {},
   "outputs": [],
   "source": []
  }
 ],
 "metadata": {
  "kernelspec": {
   "display_name": "Python 3",
   "language": "python",
   "name": "python3"
  },
  "language_info": {
   "codemirror_mode": {
    "name": "ipython",
    "version": 3
   },
   "file_extension": ".py",
   "mimetype": "text/x-python",
   "name": "python",
   "nbconvert_exporter": "python",
   "pygments_lexer": "ipython3",
   "version": "3.6.5"
  }
 },
 "nbformat": 4,
 "nbformat_minor": 2
}
