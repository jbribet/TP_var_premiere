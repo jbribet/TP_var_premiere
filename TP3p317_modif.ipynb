{
 "cells": [
  {
   "cell_type": "markdown",
   "metadata": {},
   "source": [
    "# TP3p317 : Faire la distinction entre modèle et réalité"
   ]
  },
  {
   "cell_type": "markdown",
   "metadata": {},
   "source": [
    "On souhaite étudier la distance en l'espérance de la v.a $G$ définie dans l'énoncé et la moyenne des gains algébriques obtenu lors d'un échantillon simulé."
   ]
  },
  {
   "cell_type": "markdown",
   "metadata": {},
   "source": [
    "Voici la fonction `jeu()` qui simule une partie de ce jeu. Elle retourne le gain algébrique du joueur à l'issue de la partie.\n",
    "\n",
    "*Remarque : on commence par importer la librairie `random` en la renommant `rd` pour pouvoir utiliser la fonction `randint(a,b)` de cette librairie qui renvoie un nombre choisi au hasard de façon équiprobable parmi les entiers compris entre $a$ et $b$.*"
   ]
  },
  {
   "cell_type": "code",
   "execution_count": 1,
   "metadata": {},
   "outputs": [],
   "source": [
    "import random as rd\n",
    "\n",
    "def jeu():\n",
    "    G=-2\n",
    "    for i in range(1,5) :\n",
    "        if (rd.randint(0,1)==0) and (G==-2) :\n",
    "            G=G+i\n",
    "    return G"
   ]
  },
  {
   "cell_type": "markdown",
   "metadata": {},
   "source": [
    "Le test du `if` a pour rôle de ...."
   ]
  },
  {
   "cell_type": "markdown",
   "metadata": {},
   "source": [
    "On va créer une fonction `simul_n_jeux(n)`qui va prendre en argument un nombre $n$ de parties et retourne le gain algébrique moyen par partie."
   ]
  },
  {
   "cell_type": "code",
   "execution_count": 2,
   "metadata": {},
   "outputs": [],
   "source": [
    "def simul_n_jeux(n) :\n",
    "    G_total=0\n",
    "    for i in range(n):\n",
    "        G_total=G_total+jeu()\n",
    "    return G_total/n\n",
    "    "
   ]
  },
  {
   "cell_type": "markdown",
   "metadata": {},
   "source": [
    "On va maintenant tester la fonction sur différentes tailles d'échantillons :"
   ]
  },
  {
   "cell_type": "code",
   "execution_count": 3,
   "metadata": {},
   "outputs": [
    {
     "data": {
      "text/plain": [
       "-0.384"
      ]
     },
     "execution_count": 3,
     "metadata": {},
     "output_type": "execute_result"
    }
   ],
   "source": [
    "simul_n_jeux(1000)"
   ]
  },
  {
   "cell_type": "markdown",
   "metadata": {},
   "source": [
    "On remarque que..."
   ]
  },
  {
   "cell_type": "markdown",
   "metadata": {},
   "source": [
    "On va maintenant tester le script de la question 3. "
   ]
  },
  {
   "cell_type": "code",
   "execution_count": 10,
   "metadata": {},
   "outputs": [],
   "source": [
    "%matplotlib inline\n",
    "import matplotlib.pyplot as plt\n",
    "\n",
    "def evolmoy(nbreexp,nbre_ech) :\n",
    "    n=1\n",
    "    L=[]\n",
    "    while n<=nbre_ech :\n",
    "        s=simul_n_jeux(nbreexp)\n",
    "        L.append(s)\n",
    "        n=n+1\n",
    "    axes = plt.gca()\n",
    "    axes.set_ylim(-0.6, -0.2)\n",
    "    plt.plot(list(range(1,nbre_ech+1)),L, 'b.')\n",
    "    plt.plot([1,nbre_ech],[-3/8,-3/8],'r-')\n",
    "    plt.grid()\n",
    "    plt.show()"
   ]
  },
  {
   "cell_type": "code",
   "execution_count": 13,
   "metadata": {},
   "outputs": [
    {
     "data": {
      "image/png": "[encoded data removed]",
      "text/plain": [
       "<Figure size 432x288 with 1 Axes>"
      ]
     },
     "metadata": {},
     "output_type": "display_data"
    }
   ],
   "source": [
    "evolmoy(10000,100)"
   ]
  },
  {
   "cell_type": "markdown",
   "metadata": {},
   "source": [
    "Pourquoi l'affichage ne correspond pas à ce qu'on souhaitait ? ..........."
   ]
  },
  {
   "cell_type": "code",
   "execution_count": null,
   "metadata": {},
   "outputs": [],
   "source": []
  }
 ],
 "metadata": {
  "kernelspec": {
   "display_name": "Python 3",
   "language": "python",
   "name": "python3"
  },
  "language_info": {
   "codemirror_mode": {
    "name": "ipython",
    "version": 3
   },
   "file_extension": ".py",
   "mimetype": "text/x-python",
   "name": "python",
   "nbconvert_exporter": "python",
   "pygments_lexer": "ipython3",
   "version": "3.6.5"
  }
 },
 "nbformat": 4,
 "nbformat_minor": 2
}
